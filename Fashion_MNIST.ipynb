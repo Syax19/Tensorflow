{
 "cells": [
  {
   "cell_type": "markdown",
   "id": "27a72f8f",
   "metadata": {},
   "source": [
    "## 1. 下載Fashion MNIST datasets\n",
    "本資料集為包含10個種類的服飾正面灰階圖片(28 x 28); 訓練集共60000張, 測試集共10000張\n\n",
    "其中標籤編號對應如下：\n",
    "\n",
    "0. T-shirt/top\n",
    "1. Trouser\n",
    "2. Pullover\n",
    "3. Dress\n",
    "4. Coat\n",
    "5. Sandal\n",
    "6. Shirt\n",
    "7. Sneaker\n",
    "8. Bag\n",
    "9. Ankle boot"
   ]
  },
  {
   "cell_type": "code",
   "execution_count": 1,
   "id": "7fbbc198",
   "metadata": {},
   "outputs": [
    {
     "name": "stdout",
     "output_type": "stream",
     "text": [
      "train_image:  (60000, 28, 28)\n",
      "train_label:  (60000,)\n",
      "test_image:  (10000, 28, 28)\n",
      "test_label:  (10000,)\n"
     ]
    }
   ],
   "source": [
    "import tensorflow as tf\n",
    "import matplotlib.pyplot as plt\n",
    "\n",
    "(train_image, train_label), (test_image, test_label) = tf.keras.datasets.fashion_mnist.load_data()\n",
    "\n",
    "print(\"train_image: \", train_image.shape)\n",
    "print(\"train_label: \", train_label.shape)\n",
    "print(\"test_image: \", test_image.shape)\n",
    "print(\"test_label: \", test_label.shape)"
   ]
  },
  {
   "cell_type": "code",
   "execution_count": 2,
   "id": "2c499c39",
   "metadata": {
    "scrolled": true
   },
   "outputs": [
    {
     "data": {
      "image/png": "[encoded data removed]",
      "text/plain": [
       "<Figure size 640x480 with 9 Axes>"
      ]
     },
     "metadata": {},
     "output_type": "display_data"
    }
   ],
   "source": [
    "class_names = ['T-shirt/top', 'Trouser', 'Pullover', 'Dress', 'Coat', \n",
    "               'Sandal', 'Shirt', 'Sneaker', 'Bag', 'Ankle boot']\n",
    "\n",
    "def ShowImage(x, y):\n",
    "    for i in range(9):\n",
    "        plt.subplot(330 + i + 1)\n",
    "        plt.imshow(x[i], cmap=plt.get_cmap('gray'))\n",
    "        # plt.xticks() 把x坐標軸改為自定義座標名稱\n",
    "        plt.xticks([])\n",
    "        plt.yticks([])\n",
    "        plt.xlabel(class_names[y[i]])\n",
    "    plt.show()\n",
    "    \n",
    "ShowImage(train_image, train_label)"
   ]
  },
  {
   "cell_type": "markdown",
   "id": "8d1f43ae",
   "metadata": {},
   "source": [
    "## 2. 資料前處理及建立模型"
   ]
  },
  {
   "cell_type": "code",
   "execution_count": 10,
   "id": "8b5a4fd9",
   "metadata": {},
   "outputs": [
    {
     "name": "stdout",
     "output_type": "stream",
     "text": [
      "Model: \"sequential_1\"\n",
      "_________________________________________________________________\n",
      "Layer (type)                 Output Shape              Param #   \n",
      "=================================================================\n",
      "flatten_1 (Flatten)          (None, 784)               0         \n",
      "_________________________________________________________________\n",
      "dense_4 (Dense)              (None, 256)               200960    \n",
      "_________________________________________________________________\n",
      "dense_5 (Dense)              (None, 128)               32896     \n",
      "_________________________________________________________________\n",
      "dense_6 (Dense)              (None, 64)                8256      \n",
      "_________________________________________________________________\n",
      "dense_7 (Dense)              (None, 10)                650       \n",
      "=================================================================\n",
      "Total params: 242,762\n",
      "Trainable params: 242,762\n",
      "Non-trainable params: 0\n",
      "_________________________________________________________________\n",
      "None\n"
     ]
    }
   ],
   "source": [
    "# 對資料做前處理, 將資料正規化到 0~1 之間\n",
    "def preprocess(x, y):\n",
    "    x = tf.cast(x, dtype=tf.float32) / 255.\n",
    "    y = tf.cast(y, dtype=tf.int32)\n",
    "    return x, y\n",
    "\n",
    "# 建立模型\n",
    "def build_model():\n",
    "    model = tf.keras.models.Sequential()\n",
    "    model.add(tf.keras.layers.Flatten(input_shape=(28, 28)))\n",
    "    model.add(tf.keras.layers.Dense(256, activation=tf.nn.relu))\n",
    "    model.add(tf.keras.layers.Dense(128, activation=tf.nn.relu))\n",
    "    model.add(tf.keras.layers.Dense(64, activation=tf.nn.relu))\n",
    "    model.add(tf.keras.layers.Dense(10, activation=tf.nn.softmax))\n",
    "    return model\n",
    "\n",
    "model = build_model()\n",
    "print(model.summary())"
   ]
  },
  {
   "cell_type": "markdown",
   "id": "d94963f7",
   "metadata": {},
   "source": [
    "## 3. 編譯與訓練模型"
   ]
  },
  {
   "cell_type": "code",
   "execution_count": 11,
   "id": "45386c3f",
   "metadata": {},
   "outputs": [
    {
     "name": "stdout",
     "output_type": "stream",
     "text": [
      "Epoch 1/100\n",
      "375/375 - 1s - loss: 0.5411 - accuracy: 0.8112 - val_loss: 0.4037 - val_accuracy: 0.8533\n",
      "Epoch 2/100\n",
      "375/375 - 1s - loss: 0.3792 - accuracy: 0.8628 - val_loss: 0.3542 - val_accuracy: 0.8753\n",
      "Epoch 3/100\n",
      "375/375 - 1s - loss: 0.3379 - accuracy: 0.8774 - val_loss: 0.3580 - val_accuracy: 0.8714\n",
      "Epoch 4/100\n",
      "375/375 - 1s - loss: 0.3129 - accuracy: 0.8846 - val_loss: 0.3389 - val_accuracy: 0.8754\n",
      "Epoch 5/100\n",
      "375/375 - 1s - loss: 0.2925 - accuracy: 0.8923 - val_loss: 0.3385 - val_accuracy: 0.8802\n",
      "Epoch 6/100\n",
      "375/375 - 1s - loss: 0.2764 - accuracy: 0.8974 - val_loss: 0.3285 - val_accuracy: 0.8821\n",
      "Epoch 7/100\n",
      "375/375 - 1s - loss: 0.2640 - accuracy: 0.9022 - val_loss: 0.3199 - val_accuracy: 0.8872\n",
      "Epoch 8/100\n",
      "375/375 - 1s - loss: 0.2533 - accuracy: 0.9049 - val_loss: 0.3050 - val_accuracy: 0.8892\n",
      "Epoch 9/100\n",
      "375/375 - 1s - loss: 0.2416 - accuracy: 0.9086 - val_loss: 0.3148 - val_accuracy: 0.8888\n",
      "Epoch 10/100\n",
      "375/375 - 1s - loss: 0.2310 - accuracy: 0.9128 - val_loss: 0.4014 - val_accuracy: 0.8659\n",
      "Epoch 11/100\n",
      "375/375 - 1s - loss: 0.2272 - accuracy: 0.9145 - val_loss: 0.3106 - val_accuracy: 0.8895\n",
      "Epoch 12/100\n",
      "375/375 - 1s - loss: 0.2158 - accuracy: 0.9179 - val_loss: 0.3249 - val_accuracy: 0.8854\n",
      "Epoch 13/100\n",
      "375/375 - 1s - loss: 0.2078 - accuracy: 0.9218 - val_loss: 0.3130 - val_accuracy: 0.8929\n",
      "Epoch 14/100\n",
      "375/375 - 1s - loss: 0.2015 - accuracy: 0.9239 - val_loss: 0.3342 - val_accuracy: 0.8874\n",
      "Epoch 15/100\n",
      "375/375 - 1s - loss: 0.1882 - accuracy: 0.9292 - val_loss: 0.3317 - val_accuracy: 0.8938\n",
      "Epoch 16/100\n",
      "375/375 - 1s - loss: 0.1840 - accuracy: 0.9305 - val_loss: 0.3433 - val_accuracy: 0.8894\n",
      "Epoch 17/100\n",
      "375/375 - 1s - loss: 0.1815 - accuracy: 0.9307 - val_loss: 0.3295 - val_accuracy: 0.8968\n",
      "Epoch 18/100\n",
      "375/375 - 1s - loss: 0.1730 - accuracy: 0.9339 - val_loss: 0.3639 - val_accuracy: 0.8847\n",
      "Epoch 19/100\n",
      "375/375 - 1s - loss: 0.1707 - accuracy: 0.9351 - val_loss: 0.3398 - val_accuracy: 0.8927\n",
      "Epoch 20/100\n",
      "375/375 - 1s - loss: 0.1624 - accuracy: 0.9380 - val_loss: 0.3505 - val_accuracy: 0.8932\n",
      "Epoch 21/100\n",
      "375/375 - 1s - loss: 0.1562 - accuracy: 0.9395 - val_loss: 0.3420 - val_accuracy: 0.8910\n",
      "Epoch 22/100\n",
      "375/375 - 1s - loss: 0.1535 - accuracy: 0.9409 - val_loss: 0.3588 - val_accuracy: 0.8892\n",
      "Epoch 23/100\n",
      "375/375 - 1s - loss: 0.1483 - accuracy: 0.9443 - val_loss: 0.3638 - val_accuracy: 0.8909\n",
      "Epoch 24/100\n",
      "375/375 - 1s - loss: 0.1429 - accuracy: 0.9449 - val_loss: 0.3496 - val_accuracy: 0.8914\n",
      "Epoch 25/100\n",
      "375/375 - 1s - loss: 0.1359 - accuracy: 0.9470 - val_loss: 0.3744 - val_accuracy: 0.8965\n",
      "Epoch 26/100\n",
      "375/375 - 1s - loss: 0.1343 - accuracy: 0.9488 - val_loss: 0.3697 - val_accuracy: 0.8967\n",
      "Epoch 27/100\n",
      "375/375 - 1s - loss: 0.1260 - accuracy: 0.9516 - val_loss: 0.3915 - val_accuracy: 0.8866\n",
      "Epoch 28/100\n",
      "375/375 - 1s - loss: 0.1272 - accuracy: 0.9525 - val_loss: 0.3976 - val_accuracy: 0.8942\n",
      "Epoch 29/100\n",
      "375/375 - 1s - loss: 0.1206 - accuracy: 0.9532 - val_loss: 0.3946 - val_accuracy: 0.8953\n",
      "Epoch 30/100\n",
      "375/375 - 1s - loss: 0.1195 - accuracy: 0.9540 - val_loss: 0.4076 - val_accuracy: 0.8929\n",
      "Epoch 31/100\n",
      "375/375 - 1s - loss: 0.1181 - accuracy: 0.9538 - val_loss: 0.3875 - val_accuracy: 0.8973\n",
      "Epoch 32/100\n",
      "375/375 - 1s - loss: 0.1084 - accuracy: 0.9587 - val_loss: 0.4115 - val_accuracy: 0.8917\n",
      "Epoch 33/100\n",
      "375/375 - 1s - loss: 0.1077 - accuracy: 0.9582 - val_loss: 0.4155 - val_accuracy: 0.8925\n",
      "Epoch 34/100\n",
      "375/375 - 1s - loss: 0.1074 - accuracy: 0.9593 - val_loss: 0.4270 - val_accuracy: 0.8936\n",
      "Epoch 35/100\n",
      "375/375 - 1s - loss: 0.1036 - accuracy: 0.9597 - val_loss: 0.4496 - val_accuracy: 0.8941\n",
      "Epoch 36/100\n",
      "375/375 - 1s - loss: 0.0975 - accuracy: 0.9623 - val_loss: 0.4264 - val_accuracy: 0.8978\n",
      "Epoch 37/100\n",
      "375/375 - 1s - loss: 0.0994 - accuracy: 0.9621 - val_loss: 0.4502 - val_accuracy: 0.8959\n",
      "Epoch 38/100\n",
      "375/375 - 1s - loss: 0.0948 - accuracy: 0.9632 - val_loss: 0.4804 - val_accuracy: 0.8905\n",
      "Epoch 39/100\n",
      "375/375 - 1s - loss: 0.0954 - accuracy: 0.9645 - val_loss: 0.4489 - val_accuracy: 0.8957\n",
      "Epoch 40/100\n",
      "375/375 - 1s - loss: 0.0889 - accuracy: 0.9659 - val_loss: 0.5099 - val_accuracy: 0.8939\n",
      "Epoch 41/100\n",
      "375/375 - 1s - loss: 0.0846 - accuracy: 0.9675 - val_loss: 0.4886 - val_accuracy: 0.8957\n",
      "Epoch 42/100\n",
      "375/375 - 1s - loss: 0.0827 - accuracy: 0.9685 - val_loss: 0.4694 - val_accuracy: 0.8948\n",
      "Epoch 43/100\n",
      "375/375 - 1s - loss: 0.0879 - accuracy: 0.9671 - val_loss: 0.4874 - val_accuracy: 0.8965\n",
      "Epoch 44/100\n",
      "375/375 - 1s - loss: 0.0807 - accuracy: 0.9691 - val_loss: 0.4675 - val_accuracy: 0.8950\n",
      "Epoch 45/100\n",
      "375/375 - 1s - loss: 0.0722 - accuracy: 0.9723 - val_loss: 0.5120 - val_accuracy: 0.8963\n",
      "Epoch 46/100\n",
      "375/375 - 1s - loss: 0.0806 - accuracy: 0.9692 - val_loss: 0.5711 - val_accuracy: 0.8891\n",
      "Epoch 47/100\n",
      "375/375 - 1s - loss: 0.0761 - accuracy: 0.9709 - val_loss: 0.5215 - val_accuracy: 0.8982\n",
      "Epoch 48/100\n",
      "375/375 - 1s - loss: 0.0720 - accuracy: 0.9721 - val_loss: 0.5073 - val_accuracy: 0.8953\n",
      "Epoch 49/100\n",
      "375/375 - 1s - loss: 0.0706 - accuracy: 0.9730 - val_loss: 0.5287 - val_accuracy: 0.8974\n",
      "Epoch 50/100\n",
      "375/375 - 1s - loss: 0.0683 - accuracy: 0.9745 - val_loss: 0.5480 - val_accuracy: 0.8910\n",
      "Epoch 51/100\n",
      "375/375 - 1s - loss: 0.0720 - accuracy: 0.9737 - val_loss: 0.5103 - val_accuracy: 0.8972\n",
      "Epoch 52/100\n",
      "375/375 - 1s - loss: 0.0636 - accuracy: 0.9759 - val_loss: 0.5572 - val_accuracy: 0.8886\n",
      "Epoch 53/100\n",
      "375/375 - 1s - loss: 0.0666 - accuracy: 0.9747 - val_loss: 0.5189 - val_accuracy: 0.8962\n",
      "Epoch 54/100\n",
      "375/375 - 1s - loss: 0.0662 - accuracy: 0.9755 - val_loss: 0.5978 - val_accuracy: 0.8948\n",
      "Epoch 55/100\n",
      "375/375 - 1s - loss: 0.0597 - accuracy: 0.9770 - val_loss: 0.6048 - val_accuracy: 0.8930\n",
      "Epoch 56/100\n",
      "375/375 - 1s - loss: 0.0609 - accuracy: 0.9766 - val_loss: 0.5926 - val_accuracy: 0.8961\n",
      "Epoch 57/100\n",
      "375/375 - 1s - loss: 0.0565 - accuracy: 0.9785 - val_loss: 0.5907 - val_accuracy: 0.8931\n",
      "Epoch 58/100\n",
      "375/375 - 1s - loss: 0.0687 - accuracy: 0.9739 - val_loss: 0.5814 - val_accuracy: 0.8922\n",
      "Epoch 59/100\n",
      "375/375 - 1s - loss: 0.0542 - accuracy: 0.9792 - val_loss: 0.5723 - val_accuracy: 0.8952\n",
      "Epoch 60/100\n",
      "375/375 - 1s - loss: 0.0568 - accuracy: 0.9786 - val_loss: 0.5809 - val_accuracy: 0.8903\n",
      "Epoch 61/100\n",
      "375/375 - 1s - loss: 0.0583 - accuracy: 0.9775 - val_loss: 0.5802 - val_accuracy: 0.8929\n",
      "Epoch 62/100\n",
      "375/375 - 1s - loss: 0.0596 - accuracy: 0.9778 - val_loss: 0.5834 - val_accuracy: 0.8978\n",
      "Epoch 63/100\n",
      "375/375 - 1s - loss: 0.0512 - accuracy: 0.9809 - val_loss: 0.6282 - val_accuracy: 0.8972\n",
      "Epoch 64/100\n",
      "375/375 - 1s - loss: 0.0415 - accuracy: 0.9844 - val_loss: 0.6165 - val_accuracy: 0.8936\n",
      "Epoch 65/100\n",
      "375/375 - 1s - loss: 0.0546 - accuracy: 0.9791 - val_loss: 0.6146 - val_accuracy: 0.8973\n",
      "Epoch 66/100\n",
      "375/375 - 1s - loss: 0.0490 - accuracy: 0.9808 - val_loss: 0.6196 - val_accuracy: 0.8957\n",
      "Epoch 67/100\n",
      "375/375 - 1s - loss: 0.0491 - accuracy: 0.9810 - val_loss: 0.6769 - val_accuracy: 0.8956\n",
      "Epoch 68/100\n",
      "375/375 - 1s - loss: 0.0495 - accuracy: 0.9814 - val_loss: 0.6562 - val_accuracy: 0.8945\n",
      "Epoch 69/100\n",
      "375/375 - 1s - loss: 0.0520 - accuracy: 0.9803 - val_loss: 0.6390 - val_accuracy: 0.8915\n",
      "Epoch 70/100\n",
      "375/375 - 1s - loss: 0.0523 - accuracy: 0.9804 - val_loss: 0.6701 - val_accuracy: 0.8876\n",
      "Epoch 71/100\n",
      "375/375 - 1s - loss: 0.0438 - accuracy: 0.9830 - val_loss: 0.6578 - val_accuracy: 0.8957\n",
      "Epoch 72/100\n",
      "375/375 - 1s - loss: 0.0471 - accuracy: 0.9822 - val_loss: 0.6257 - val_accuracy: 0.8910\n",
      "Epoch 73/100\n",
      "375/375 - 1s - loss: 0.0415 - accuracy: 0.9847 - val_loss: 0.7081 - val_accuracy: 0.8928\n",
      "Epoch 74/100\n",
      "375/375 - 1s - loss: 0.0414 - accuracy: 0.9844 - val_loss: 0.6785 - val_accuracy: 0.8928\n",
      "Epoch 75/100\n",
      "375/375 - 1s - loss: 0.0524 - accuracy: 0.9808 - val_loss: 0.7184 - val_accuracy: 0.8881\n",
      "Epoch 76/100\n",
      "375/375 - 1s - loss: 0.0482 - accuracy: 0.9822 - val_loss: 0.6306 - val_accuracy: 0.8955\n",
      "Epoch 77/100\n",
      "375/375 - 1s - loss: 0.0456 - accuracy: 0.9829 - val_loss: 0.7075 - val_accuracy: 0.8915\n",
      "Epoch 78/100\n",
      "375/375 - 1s - loss: 0.0408 - accuracy: 0.9853 - val_loss: 0.6893 - val_accuracy: 0.8928\n",
      "Epoch 79/100\n",
      "375/375 - 1s - loss: 0.0504 - accuracy: 0.9821 - val_loss: 0.6567 - val_accuracy: 0.8946\n",
      "Epoch 80/100\n",
      "375/375 - 1s - loss: 0.0381 - accuracy: 0.9857 - val_loss: 0.6861 - val_accuracy: 0.8937\n",
      "Epoch 81/100\n",
      "375/375 - 1s - loss: 0.0386 - accuracy: 0.9857 - val_loss: 0.6956 - val_accuracy: 0.8938\n"
     ]
    },
    {
     "name": "stdout",
     "output_type": "stream",
     "text": [
      "Epoch 82/100\n",
      "375/375 - 1s - loss: 0.0376 - accuracy: 0.9865 - val_loss: 0.7144 - val_accuracy: 0.8935\n",
      "Epoch 83/100\n",
      "375/375 - 1s - loss: 0.0420 - accuracy: 0.9843 - val_loss: 0.7484 - val_accuracy: 0.8929\n",
      "Epoch 84/100\n",
      "375/375 - 1s - loss: 0.0363 - accuracy: 0.9867 - val_loss: 0.7175 - val_accuracy: 0.8913\n",
      "Epoch 85/100\n",
      "375/375 - 1s - loss: 0.0412 - accuracy: 0.9853 - val_loss: 0.7396 - val_accuracy: 0.8920\n",
      "Epoch 86/100\n",
      "375/375 - 1s - loss: 0.0351 - accuracy: 0.9873 - val_loss: 0.7569 - val_accuracy: 0.8938\n",
      "Epoch 87/100\n",
      "375/375 - 1s - loss: 0.0346 - accuracy: 0.9876 - val_loss: 0.7643 - val_accuracy: 0.8938\n",
      "Epoch 88/100\n",
      "375/375 - 1s - loss: 0.0329 - accuracy: 0.9874 - val_loss: 0.7671 - val_accuracy: 0.8947\n",
      "Epoch 89/100\n",
      "375/375 - 1s - loss: 0.0434 - accuracy: 0.9839 - val_loss: 0.7832 - val_accuracy: 0.8919\n",
      "Epoch 90/100\n",
      "375/375 - 1s - loss: 0.0339 - accuracy: 0.9885 - val_loss: 0.7576 - val_accuracy: 0.8949\n",
      "Epoch 91/100\n",
      "375/375 - 1s - loss: 0.0358 - accuracy: 0.9872 - val_loss: 0.7258 - val_accuracy: 0.8898\n",
      "Epoch 92/100\n",
      "375/375 - 1s - loss: 0.0328 - accuracy: 0.9880 - val_loss: 0.7791 - val_accuracy: 0.8977\n",
      "Epoch 93/100\n",
      "375/375 - 1s - loss: 0.0334 - accuracy: 0.9884 - val_loss: 0.7595 - val_accuracy: 0.8942\n",
      "Epoch 94/100\n",
      "375/375 - 1s - loss: 0.0366 - accuracy: 0.9872 - val_loss: 0.7868 - val_accuracy: 0.8890\n",
      "Epoch 95/100\n",
      "375/375 - 1s - loss: 0.0342 - accuracy: 0.9874 - val_loss: 0.7661 - val_accuracy: 0.8889\n",
      "Epoch 96/100\n",
      "375/375 - 1s - loss: 0.0374 - accuracy: 0.9864 - val_loss: 0.8382 - val_accuracy: 0.8928\n",
      "Epoch 97/100\n",
      "375/375 - 1s - loss: 0.0318 - accuracy: 0.9880 - val_loss: 0.7610 - val_accuracy: 0.8939\n",
      "Epoch 98/100\n",
      "375/375 - 1s - loss: 0.0366 - accuracy: 0.9864 - val_loss: 0.7113 - val_accuracy: 0.8921\n",
      "Epoch 99/100\n",
      "375/375 - 1s - loss: 0.0267 - accuracy: 0.9902 - val_loss: 0.7757 - val_accuracy: 0.8930\n",
      "Epoch 100/100\n",
      "375/375 - 1s - loss: 0.0277 - accuracy: 0.9899 - val_loss: 0.8218 - val_accuracy: 0.8951\n"
     ]
    }
   ],
   "source": [
    "model.compile(optimizer=tf.keras.optimizers.Adam(), \n",
    "              loss='sparse_categorical_crossentropy', \n",
    "              metrics=['accuracy'])\n",
    "\n",
    "train_images, train_labels = preprocess(train_image, train_label)\n",
    "\n",
    "batchsize = 128\n",
    "history = model.fit(train_images, train_labels, epochs=100, \n",
    "                    batch_size=batchsize, \n",
    "                    validation_split=0.2, \n",
    "                    verbose=2)"
   ]
  },
  {
   "cell_type": "code",
   "execution_count": 12,
   "id": "da275600",
   "metadata": {},
   "outputs": [
    {
     "data": {
      "image/png": "[encoded data removed]",
      "text/plain": [
       "<Figure size 640x480 with 1 Axes>"
      ]
     },
     "metadata": {},
     "output_type": "display_data"
    }
   ],
   "source": [
    "plt.plot(history.history['accuracy'])\n",
    "plt.plot(history.history['val_accuracy'])\n",
    "plt.xlabel('epoch')\n",
    "plt.ylabel('accuracy')\n",
    "plt.legend(['train', 'validation'], loc='upper left')\n",
    "plt.show()"
   ]
  },
  {
   "cell_type": "markdown",
   "id": "f3639cc9",
   "metadata": {},
   "source": [
    "## 4.保存模型\n",
    "1. 保存網路模型與權重參數; 使用model.save(filepath)將Keras模型和權重保存在HDF5文件中, 該文件包含模型的結構、權重、訓練配置(損失函數、優化器等)、優化器的狀態\n",
    "2. 保存網路模型與權重參數到指定資料夾中; 使用tf.saved_model.save(network, path), 此儲存方式會建立三種檔案及資料夾 (一) assets 資料夾: TF graph會用到的檔案 (二) variables資料夾: 參數權重, 包含了所有模型的變量(tf.Variable objects)參數 (三) saved_model.pd 檔案: 保存MetaGraph的網路結構\n",
    "3. 儲存權重; 使用save_weights()"
   ]
  },
  {
   "cell_type": "markdown",
   "id": "6afd6b5a",
   "metadata": {},
   "source": [
    "### 方法一: 保存網路模型與權重參數至HDF5檔案"
   ]
  },
  {
   "cell_type": "code",
   "execution_count": 6,
   "id": "5f267d5b",
   "metadata": {},
   "outputs": [
    {
     "name": "stdout",
     "output_type": "stream",
     "text": [
      "Model saved\n",
      "loaded model from Fashion_mnist_model.h5\n",
      "[[2.5353489e-12 1.5561668e-08 9.1913729e-18 5.2378822e-12 7.4324141e-12\n",
      "  8.2157621e-06 9.4111334e-07 4.7994240e-06 5.5173688e-10 9.9998605e-01]\n",
      " [8.4478709e-12 3.0799480e-14 9.9999988e-01 4.7384807e-09 1.2531662e-08\n",
      "  5.9076896e-18 5.1724793e-08 2.1468194e-17 3.0047756e-18 1.9572725e-20]\n",
      " [0.0000000e+00 1.0000000e+00 0.0000000e+00 1.3947329e-37 0.0000000e+00\n",
      "  0.0000000e+00 0.0000000e+00 0.0000000e+00 0.0000000e+00 0.0000000e+00]\n",
      " [0.0000000e+00 1.0000000e+00 0.0000000e+00 8.9557006e-32 0.0000000e+00\n",
      "  0.0000000e+00 0.0000000e+00 0.0000000e+00 0.0000000e+00 0.0000000e+00]\n",
      " [9.9957854e-01 2.2392298e-10 1.3383135e-08 5.5847783e-12 9.3049585e-14\n",
      "  3.5480983e-17 4.2151040e-04 5.3938413e-17 3.0886311e-14 7.2868928e-17]\n",
      " [2.7997627e-35 1.0000000e+00 0.0000000e+00 1.4190824e-29 0.0000000e+00\n",
      "  0.0000000e+00 2.0128582e-35 0.0000000e+00 7.1077368e-33 0.0000000e+00]\n",
      " [0.0000000e+00 0.0000000e+00 6.3161104e-26 4.0489396e-33 1.0000000e+00\n",
      "  2.5097076e-37 1.2907232e-16 0.0000000e+00 1.1472082e-33 0.0000000e+00]\n",
      " [2.3770229e-22 2.2425285e-26 8.7584230e-14 3.5265439e-16 1.8722879e-11\n",
      "  2.4163399e-18 1.0000000e+00 1.5299316e-25 3.9565678e-24 8.0298589e-32]\n",
      " [1.5644375e-35 0.0000000e+00 0.0000000e+00 7.3830847e-37 2.5690471e-37\n",
      "  1.0000000e+00 1.3492234e-24 3.7174897e-24 1.2793221e-30 8.7090090e-34]\n",
      " [1.4759999e-30 5.7717008e-32 6.3266016e-18 5.1243433e-23 1.5450784e-21\n",
      "  7.2107955e-13 6.9635917e-25 1.0000000e+00 6.4176358e-17 3.2118333e-18]]\n",
      "--------------------------------------------------\n",
      "tf.Tensor([9 2 1 1 0 1 4 6 5 7], shape=(10,), dtype=int64)\n",
      "tf.Tensor([9 2 1 1 6 1 4 6 5 7], shape=(10,), dtype=int32)\n"
     ]
    }
   ],
   "source": [
    "# 儲存模型\n",
    "model.save('Fashion_mnist_model.h5')\n",
    "print('Model saved')\n",
    "del model\n",
    "\n",
    "# 載入模型\n",
    "print('loaded model from Fashion_mnist_model.h5')\n",
    "test_images, test_labels = preprocess(test_image, test_label)\n",
    "Model2 = tf.keras.models.load_model('Fashion_mnist_model.h5', compile=False)\n",
    "\n",
    "# 拿前10筆資料來預測並印出標籤, 只用於預測時不需要再次對模型進行編譯(使用訓練好的參數與網路, 不須再使用loss function和optimizer)\n",
    "prediction = Model2.predict(test_images[:10])\n",
    "print(prediction)\n",
    "print('-' * 50)\n",
    "print(tf.argmax(prediction, 1))\n",
    "print(test_labels[:10])"
   ]
  },
  {
   "cell_type": "code",
   "execution_count": 7,
   "id": "f76a7409",
   "metadata": {},
   "outputs": [
    {
     "name": "stdout",
     "output_type": "stream",
     "text": [
      "loaded model from Fashion_mnist_model.h5\n",
      "313/313 [==============================] - 1s 3ms/step - loss: 0.8312 - accuracy: 0.8936\n",
      "\n",
      " test loss: 0.8311949968338013\n",
      "\n",
      " test accuracy: 0.8935999870300293\n"
     ]
    }
   ],
   "source": [
    "# 載入模型\n",
    "print('loaded model from Fashion_mnist_model.h5')\n",
    "test_images, test_labels = preprocess(test_image, test_label)\n",
    "Model2 = tf.keras.models.load_model('Fashion_mnist_model.h5', compile=False)\n",
    "\n",
    "# 若要做評估則需要再編譯一次模型檔\n",
    "Model2.compile(optimizer=tf.keras.optimizers.Adam(), \n",
    "              loss='sparse_categorical_crossentropy', \n",
    "              metrics=['accuracy'])\n",
    "loss, accuracy = Model2.evaluate(test_images, test_labels)\n",
    "print(\"\\n test loss:\", loss)\n",
    "print(\"\\n test accuracy:\", accuracy)"
   ]
  },
  {
   "cell_type": "markdown",
   "id": "fd5481d8",
   "metadata": {},
   "source": [
    "### 方法二: 保存網路模型與權重參數至指定資料夾"
   ]
  },
  {
   "cell_type": "code",
   "execution_count": 14,
   "id": "4d63db9d",
   "metadata": {},
   "outputs": [
    {
     "name": "stdout",
     "output_type": "stream",
     "text": [
      "WARNING:tensorflow:FOR KERAS USERS: The object that you are saving contains one or more Keras models or layers. If you are loading the SavedModel with `tf.keras.models.load_model`, continue reading (otherwise, you may ignore the following instructions). Please change your code to save with `tf.keras.models.save_model` or `model.save`, and confirm that the file \"keras.metadata\" exists in the export directory. In the future, Keras will only load the SavedModels that have this file. In other words, `tf.saved_model.save` will no longer write SavedModels that can be recovered as Keras models (this will apply in TF 2.5).\n",
      "\n",
      "FOR DEVS: If you are overwriting _tracking_metadata in your class, this property has been used to save metadata in the SavedModel. The metadta field will be deprecated soon, so please move the metadata to a different file.\n",
      "INFO:tensorflow:Assets written to: temp\\assets\n",
      "Model saved\n",
      "Load Model\n",
      "Test Accuracy: tf.Tensor(0.8907, shape=(), dtype=float32)\n"
     ]
    }
   ],
   "source": [
    "# 儲存網路至指定資料夾\n",
    "tf.saved_model.save(model, 'temp')\n",
    "print('Model saved')\n",
    "del model\n",
    "\n",
    "test_images, test_labels = preprocess(test_image, test_label)\n",
    "\n",
    "print('Load Model')\n",
    "Model2 = tf.saved_model.load('temp')\n",
    "categorical_accuracy = tf.keras.metrics.SparseCategoricalAccuracy()\n",
    "\n",
    "# 輸入測試資料\n",
    "y_pred = Model2(test_images)\n",
    "# 利用update_state() 設定更新真實值與預測值的數據\n",
    "categorical_accuracy.update_state(y_true=test_labels, y_pred=y_pred)\n",
    "print('Test Accuracy:', categorical_accuracy.result())"
   ]
  },
  {
   "cell_type": "markdown",
   "id": "6f51af24",
   "metadata": {},
   "source": [
    "### 方法三: 僅保存權重(應用於已有網路結構檔案的情況下)"
   ]
  },
  {
   "cell_type": "code",
   "execution_count": 22,
   "id": "6aba3e2b",
   "metadata": {},
   "outputs": [
    {
     "name": "stdout",
     "output_type": "stream",
     "text": [
      "Model weights saved\n",
      "Load Model weights\n",
      "313/313 [==============================] - 1s 3ms/step - loss: 0.9093 - accuracy: 0.8907\n",
      "\n",
      " test loss: 0.9092891812324524\n",
      "\n",
      " test accuracy: 0.8906999826431274\n"
     ]
    }
   ],
   "source": [
    "# 儲存權重檔\n",
    "model.save_weights('Fashion_mnist_weights.h5')\n",
    "print('Model weights saved')\n",
    "\n",
    "\n",
    "newModel = build_model()\n",
    "newModel.load_weights('Fashion_mnist_weights.h5')\n",
    "print('Load Model weights')\n",
    "\n",
    "newModel.compile(optimizer=tf.keras.optimizers.Adam(), \n",
    "              loss='sparse_categorical_crossentropy', \n",
    "              metrics=['accuracy'])\n",
    "\n",
    "test_images, test_labels = preprocess(test_image, test_label)\n",
    "\n",
    "\n",
    "loss, accuracy = newModel.evaluate(test_images, test_labels)\n",
    "print(\"\\n test loss:\", loss)\n",
    "print(\"\\n test accuracy:\", accuracy)"
   ]
  },
  {
   "cell_type": "code",
   "execution_count": null,
   "id": "3fcc9853",
   "metadata": {},
   "outputs": [],
   "source": []
  }
 ],
 "metadata": {
  "kernelspec": {
   "display_name": "Python 3 (ipykernel)",
   "language": "python",
   "name": "python3"
  },
  "language_info": {
   "codemirror_mode": {
    "name": "ipython",
    "version": 3
   },
   "file_extension": ".py",
   "mimetype": "text/x-python",
   "name": "python",
   "nbconvert_exporter": "python",
   "pygments_lexer": "ipython3",
   "version": "3.8.13"
  }
 },
 "nbformat": 4,
 "nbformat_minor": 5
}
